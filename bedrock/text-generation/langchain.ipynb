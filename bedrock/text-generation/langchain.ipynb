{
 "cells": [
  {
   "cell_type": "markdown",
   "id": "5eb2f95b-7a25-458c-bb58-2ba164c9ffc1",
   "metadata": {},
   "source": [
    "https://python.langchain.com/docs/integrations/chat/bedrock/"
   ]
  },
  {
   "cell_type": "code",
   "execution_count": 1,
   "id": "be202647-74ac-4ef8-ae7d-23cb10171228",
   "metadata": {},
   "outputs": [
    {
     "name": "stdout",
     "output_type": "stream",
     "text": [
      "Note: you may need to restart the kernel to use updated packages.\n"
     ]
    }
   ],
   "source": [
    "%pip install -qU langchain-aws"
   ]
  },
  {
   "cell_type": "code",
   "execution_count": 5,
   "id": "36210aad-5872-4aff-8d1c-7f5bffdfeea0",
   "metadata": {},
   "outputs": [],
   "source": [
    "from langchain_aws import ChatBedrockConverse\n",
    "\n",
    "client = ChatBedrockConverse(\n",
    "    model_id=\"anthropic.claude-3-haiku-20240307-v1:0\",\n",
    "    # temperature=...,\n",
    "    # max_tokens=...,\n",
    "    # other params...\n",
    ")"
   ]
  },
  {
   "cell_type": "code",
   "execution_count": 6,
   "id": "f23accbb-f4c2-4f3f-956e-75e14387c251",
   "metadata": {},
   "outputs": [],
   "source": [
    "messages = [\n",
    "    (\n",
    "        \"system\",\n",
    "        \"You are a helpful assistant that translates English to French. Translate the user sentence.\",\n",
    "    ),\n",
    "    (\"human\", \"I love programming.\"),\n",
    "]\n",
    "resp = client.invoke(messages)"
   ]
  },
  {
   "cell_type": "code",
   "execution_count": 7,
   "id": "f905fbf1-6251-4989-8d7a-0d516e19115e",
   "metadata": {},
   "outputs": [
    {
     "name": "stdout",
     "output_type": "stream",
     "text": [
      "Voici la traduction en français :\n",
      "\n",
      "J'adore la programmation.\n"
     ]
    }
   ],
   "source": [
    "print(resp.content)"
   ]
  },
  {
   "cell_type": "code",
   "execution_count": null,
   "id": "3dc2a204-1147-41b9-9b6b-5ca6e7304338",
   "metadata": {},
   "outputs": [],
   "source": []
  }
 ],
 "metadata": {
  "kernelspec": {
   "display_name": "Python 3 (ipykernel)",
   "language": "python",
   "name": "python3"
  },
  "language_info": {
   "codemirror_mode": {
    "name": "ipython",
    "version": 3
   },
   "file_extension": ".py",
   "mimetype": "text/x-python",
   "name": "python",
   "nbconvert_exporter": "python",
   "pygments_lexer": "ipython3",
   "version": "3.12.9"
  }
 },
 "nbformat": 4,
 "nbformat_minor": 5
}
