{
 "cells": [
  {
   "cell_type": "code",
   "execution_count": 2,
   "id": "1729de3b-3bd0-4ad8-b695-2adff29ff93f",
   "metadata": {},
   "outputs": [
    {
     "name": "stdout",
     "output_type": "stream",
     "text": [
      "Requirement already satisfied: boto3 in /opt/conda/lib/python3.12/site-packages (1.38.37)\n",
      "Requirement already satisfied: botocore<1.39.0,>=1.38.37 in /opt/conda/lib/python3.12/site-packages (from boto3) (1.38.37)\n",
      "Requirement already satisfied: jmespath<2.0.0,>=0.7.1 in /opt/conda/lib/python3.12/site-packages (from boto3) (1.0.1)\n",
      "Requirement already satisfied: s3transfer<0.14.0,>=0.13.0 in /opt/conda/lib/python3.12/site-packages (from boto3) (0.13.0)\n",
      "Requirement already satisfied: python-dateutil<3.0.0,>=2.1 in /opt/conda/lib/python3.12/site-packages (from botocore<1.39.0,>=1.38.37->boto3) (2.9.0.post0)\n",
      "Requirement already satisfied: urllib3!=2.2.0,<3,>=1.25.4 in /opt/conda/lib/python3.12/site-packages (from botocore<1.39.0,>=1.38.37->boto3) (2.3.0)\n",
      "Requirement already satisfied: six>=1.5 in /opt/conda/lib/python3.12/site-packages (from python-dateutil<3.0.0,>=2.1->botocore<1.39.0,>=1.38.37->boto3) (1.17.0)\n",
      "Note: you may need to restart the kernel to use updated packages.\n"
     ]
    }
   ],
   "source": [
    "%pip install boto3"
   ]
  },
  {
   "cell_type": "code",
   "execution_count": 1,
   "id": "871f4d65-acd6-4b4c-b4f0-276c1f311c7b",
   "metadata": {},
   "outputs": [],
   "source": [
    "import json\n",
    "import os\n",
    "import sys\n",
    "import boto3"
   ]
  },
  {
   "cell_type": "code",
   "execution_count": 2,
   "id": "a288d1da-652b-4a69-b169-53cc5ea98d9c",
   "metadata": {},
   "outputs": [],
   "source": [
    "client = boto3.client(\"bedrock-runtime\")"
   ]
  },
  {
   "cell_type": "code",
   "execution_count": 5,
   "id": "457618a8-535f-44ae-8da3-c31a9b924f34",
   "metadata": {},
   "outputs": [],
   "source": [
    "prompt = \"\"\"\n",
    "Please provide a summary of the following text. Do not add any information that is not mentioned in the text below.\n",
    "\n",
    "<text>\n",
    "AWS took all of that feedback from customers, and today we are excited to announce Amazon Bedrock, \\\n",
    "a new service that makes FMs from AI21 Labs, Anthropic, Stability AI, and Amazon accessible via an API. \\\n",
    "Bedrock is the easiest way for customers to build and scale generative AI-based applications using FMs, \\\n",
    "democratizing access for all builders. Bedrock will offer the ability to access a range of powerful FMs \\\n",
    "for text and images—including Amazons Titan FMs, which consist of two new LLMs we’re also announcing \\\n",
    "today—through a scalable, reliable, and secure AWS managed service. With Bedrock’s serverless experience, \\\n",
    "customers can easily find the right model for what they’re trying to get done, get started quickly, privately \\\n",
    "customize FMs with their own data, and easily integrate and deploy them into their applications using the AWS \\\n",
    "tools and capabilities they are familiar with, without having to manage any infrastructure (including integrations \\\n",
    "with Amazon SageMaker ML features like Experiments to test different models and Pipelines to manage their FMs at scale).\n",
    "</text>\n",
    "\n",
    "\"\"\""
   ]
  },
  {
   "cell_type": "code",
   "execution_count": 6,
   "id": "788116db-c651-4f37-9d5d-b2b9640b922e",
   "metadata": {},
   "outputs": [],
   "source": [
    "body = json.dumps({\"inputText\": prompt, \n",
    "                   \"textGenerationConfig\":{\n",
    "                       \"maxTokenCount\":4096,\n",
    "                       \"stopSequences\":[],\n",
    "                       \"temperature\":0,\n",
    "                       \"topP\":1\n",
    "                   },\n",
    "                  }) "
   ]
  },
  {
   "cell_type": "code",
   "execution_count": 8,
   "id": "6c99febf-eeb5-49c9-8eda-058763799437",
   "metadata": {},
   "outputs": [],
   "source": [
    "resp = client.invoke_model(\n",
    "    body=body,\n",
    "    modelId=\"amazon.titan-tg1-large\",\n",
    "    accept='application/json',\n",
    "    contentType='application/json'\n",
    ")"
   ]
  },
  {
   "cell_type": "code",
   "execution_count": 11,
   "id": "a6008abc-daeb-48e2-bbf7-5d636e11b2f5",
   "metadata": {},
   "outputs": [],
   "source": [
    "body = json.loads(resp.get('body').read())"
   ]
  },
  {
   "cell_type": "code",
   "execution_count": 14,
   "id": "d5cdd211-5b18-48e0-b515-ce4dbdfd4b67",
   "metadata": {},
   "outputs": [
    {
     "name": "stdout",
     "output_type": "stream",
     "text": [
      "Amazon Bedrock is a new service that makes FMs from AI21 Labs, Anthropic, Stability AI, and Amazon accessible via an API. It offers a scalable, reliable, and secure AWS managed service with serverless experience, allowing customers to easily find the right model, get started quickly, privately customize FMs with their own data, and easily integrate and deploy them into their applications.\n"
     ]
    }
   ],
   "source": [
    "print(body.get('results')[0].get('outputText'))"
   ]
  },
  {
   "cell_type": "code",
   "execution_count": null,
   "id": "341cb4de-ce69-47f6-a0f6-1c33646eaf25",
   "metadata": {},
   "outputs": [],
   "source": []
  }
 ],
 "metadata": {
  "kernelspec": {
   "display_name": "Python 3 (ipykernel)",
   "language": "python",
   "name": "python3"
  },
  "language_info": {
   "codemirror_mode": {
    "name": "ipython",
    "version": 3
   },
   "file_extension": ".py",
   "mimetype": "text/x-python",
   "name": "python",
   "nbconvert_exporter": "python",
   "pygments_lexer": "ipython3",
   "version": "3.12.9"
  }
 },
 "nbformat": 4,
 "nbformat_minor": 5
}
