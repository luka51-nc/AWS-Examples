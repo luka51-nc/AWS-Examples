{
 "cells": [
  {
   "cell_type": "code",
   "execution_count": 2,
   "id": "c353a0f2-e7f6-4f3d-a31b-4cab77fd24fc",
   "metadata": {},
   "outputs": [
    {
     "name": "stdout",
     "output_type": "stream",
     "text": [
      "Requirement already satisfied: boto3 in /opt/conda/lib/python3.12/site-packages (1.37.1)\n",
      "Requirement already satisfied: botocore<1.38.0,>=1.37.1 in /opt/conda/lib/python3.12/site-packages (from boto3) (1.37.1)\n",
      "Requirement already satisfied: jmespath<2.0.0,>=0.7.1 in /opt/conda/lib/python3.12/site-packages (from boto3) (1.0.1)\n",
      "Requirement already satisfied: s3transfer<0.12.0,>=0.11.0 in /opt/conda/lib/python3.12/site-packages (from boto3) (0.11.3)\n",
      "Requirement already satisfied: python-dateutil<3.0.0,>=2.1 in /opt/conda/lib/python3.12/site-packages (from botocore<1.38.0,>=1.37.1->boto3) (2.9.0.post0)\n",
      "Requirement already satisfied: urllib3!=2.2.0,<3,>=1.25.4 in /opt/conda/lib/python3.12/site-packages (from botocore<1.38.0,>=1.37.1->boto3) (2.3.0)\n",
      "Requirement already satisfied: six>=1.5 in /opt/conda/lib/python3.12/site-packages (from python-dateutil<3.0.0,>=2.1->botocore<1.38.0,>=1.37.1->boto3) (1.17.0)\n",
      "Note: you may need to restart the kernel to use updated packages.\n"
     ]
    }
   ],
   "source": [
    "%pip install boto3"
   ]
  },
  {
   "cell_type": "code",
   "execution_count": 3,
   "id": "93dabe87-5419-43bc-83c0-c0f8df3fcc19",
   "metadata": {},
   "outputs": [],
   "source": [
    "import json\n",
    "import os\n",
    "import sys\n",
    "\n",
    "import boto3"
   ]
  },
  {
   "cell_type": "code",
   "execution_count": 4,
   "id": "c7883d1f-eb17-41a7-a844-6a083d39fd0e",
   "metadata": {},
   "outputs": [],
   "source": [
    "client = boto3.client(\"bedrock-runtime\")"
   ]
  },
  {
   "cell_type": "code",
   "execution_count": 11,
   "id": "b3a13bc2-ada6-481e-9054-da8de651e8a7",
   "metadata": {},
   "outputs": [],
   "source": [
    "prompt_data = \"\"\"\n",
    "On a given week, the viewers for a TV channel were\n",
    "Monday: 6500 viewers\n",
    "Tuesday: 6400 viewers\n",
    "Wednesday: 6300 viewers\n",
    "\n",
    "Question: How many viewers can we expect on Friday?\n",
    "Answer: Based on the numbers given and without any more information, there is a daily decrease of 100 viewers. If we assume this trend will continue during the following days, we can\n",
    "expect 6200 viewers on the next day that would be Thursday, and therefore 6100 viewers on the next day that would be Friday.\n",
    "\n",
    "Question: How many viewers can we expect on Saturday? (Think Step-by-Step)\n",
    "Answer:\n",
    "\"\"\""
   ]
  },
  {
   "cell_type": "code",
   "execution_count": 12,
   "id": "ec5c6f91-2060-407c-a169-5d3ce38650ec",
   "metadata": {},
   "outputs": [],
   "source": [
    "resp = client.invoke_model(\n",
    "    modelId='anthropic.claude-3-haiku-20240307-v1:0',\n",
    "    contentType='application/json',\n",
    "    accept='application/json',\n",
    "    body=json.dumps({\n",
    "        \"anthropic_version\": \"bedrock-2023-05-31\",\n",
    "        \"max_tokens\": 512,\n",
    "        \"messages\": [\n",
    "            {\"role\": \"user\",\"content\": [{\"type\": \"text\",\"text\": prompt_data }]}\n",
    "        ],\n",
    "        \"temperature\": 0.5,\n",
    "        \"top_p\": 0.9\n",
    "    })\n",
    ")"
   ]
  },
  {
   "cell_type": "code",
   "execution_count": 13,
   "id": "de3537f3-e0bf-4336-a97a-2bfd268e2a85",
   "metadata": {},
   "outputs": [
    {
     "name": "stdout",
     "output_type": "stream",
     "text": [
      "{'ResponseMetadata': {'RequestId': '24124632-f84b-444b-9fac-f67091461fff', 'HTTPStatusCode': 200, 'HTTPHeaders': {'date': 'Tue, 13 May 2025 16:25:37 GMT', 'content-type': 'application/json', 'content-length': '974', 'connection': 'keep-alive', 'x-amzn-requestid': '24124632-f84b-444b-9fac-f67091461fff', 'x-amzn-bedrock-invocation-latency': '1637', 'x-amzn-bedrock-output-token-count': '207', 'x-amzn-bedrock-input-token-count': '151'}, 'RetryAttempts': 1}, 'contentType': 'application/json', 'body': <botocore.response.StreamingBody object at 0x7fc2b90a3280>}\n"
     ]
    }
   ],
   "source": [
    "print(resp)"
   ]
  },
  {
   "cell_type": "code",
   "execution_count": 14,
   "id": "df2eabc1-8e75-402d-8e85-1c857f5c3398",
   "metadata": {},
   "outputs": [],
   "source": [
    "body = json.loads(resp.get(\"body\").read())"
   ]
  },
  {
   "cell_type": "code",
   "execution_count": 18,
   "id": "796dbe18-416a-4ca2-a281-9a21fea0badf",
   "metadata": {},
   "outputs": [
    {
     "name": "stdout",
     "output_type": "stream",
     "text": [
      "To find the expected number of viewers on Saturday, we can follow the same trend of decreasing viewers by 100 each day.\n",
      "\n",
      "Given information:\n",
      "- Monday: 6500 viewers\n",
      "- Tuesday: 6400 viewers\n",
      "- Wednesday: 6300 viewers\n",
      "\n",
      "Step 1: Find the expected number of viewers on Thursday.\n",
      "Thursday's viewers = Wednesday's viewers - 100\n",
      "Thursday's viewers = 6300 - 100 = 6200 viewers\n",
      "\n",
      "Step 2: Find the expected number of viewers on Friday.\n",
      "Friday's viewers = Thursday's viewers - 100\n",
      "Friday's viewers = 6200 - 100 = 6100 viewers\n",
      "\n",
      "Step 3: Find the expected number of viewers on Saturday.\n",
      "Saturday's viewers = Friday's viewers - 100\n",
      "Saturday's viewers = 6100 - 100 = 6000 viewers\n",
      "\n",
      "Therefore, we can expect 6000 viewers on Saturday.\n"
     ]
    }
   ],
   "source": [
    "print(body['content'][0]['text'])"
   ]
  },
  {
   "cell_type": "code",
   "execution_count": null,
   "id": "0de3daea-bf5c-4745-8ca4-453273bddbbf",
   "metadata": {},
   "outputs": [],
   "source": []
  }
 ],
 "metadata": {
  "kernelspec": {
   "display_name": "Python 3 (ipykernel)",
   "language": "python",
   "name": "python3"
  },
  "language_info": {
   "codemirror_mode": {
    "name": "ipython",
    "version": 3
   },
   "file_extension": ".py",
   "mimetype": "text/x-python",
   "name": "python",
   "nbconvert_exporter": "python",
   "pygments_lexer": "ipython3",
   "version": "3.12.9"
  }
 },
 "nbformat": 4,
 "nbformat_minor": 5
}
