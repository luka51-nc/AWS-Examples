{
 "cells": [
  {
   "cell_type": "code",
   "execution_count": 2,
   "id": "5e2f0b69-4e20-41ad-bbf5-2712fda37ce9",
   "metadata": {},
   "outputs": [
    {
     "name": "stdout",
     "output_type": "stream",
     "text": [
      "Requirement already satisfied: boto3 in /opt/conda/lib/python3.12/site-packages (1.37.1)\n",
      "Requirement already satisfied: botocore<1.38.0,>=1.37.1 in /opt/conda/lib/python3.12/site-packages (from boto3) (1.37.1)\n",
      "Requirement already satisfied: jmespath<2.0.0,>=0.7.1 in /opt/conda/lib/python3.12/site-packages (from boto3) (1.0.1)\n",
      "Requirement already satisfied: s3transfer<0.12.0,>=0.11.0 in /opt/conda/lib/python3.12/site-packages (from boto3) (0.11.3)\n",
      "Requirement already satisfied: python-dateutil<3.0.0,>=2.1 in /opt/conda/lib/python3.12/site-packages (from botocore<1.38.0,>=1.37.1->boto3) (2.9.0.post0)\n",
      "Requirement already satisfied: urllib3!=2.2.0,<3,>=1.25.4 in /opt/conda/lib/python3.12/site-packages (from botocore<1.38.0,>=1.37.1->boto3) (2.3.0)\n",
      "Requirement already satisfied: six>=1.5 in /opt/conda/lib/python3.12/site-packages (from python-dateutil<3.0.0,>=2.1->botocore<1.38.0,>=1.37.1->boto3) (1.17.0)\n",
      "Note: you may need to restart the kernel to use updated packages.\n"
     ]
    }
   ],
   "source": [
    "%pip install boto3"
   ]
  },
  {
   "cell_type": "code",
   "execution_count": 23,
   "id": "0ca61b85-d7a5-42d5-9d42-bb942c77e87b",
   "metadata": {},
   "outputs": [],
   "source": [
    "import json\n",
    "import os\n",
    "import sys\n",
    "\n",
    "import boto3\n",
    "import botocore"
   ]
  },
  {
   "cell_type": "code",
   "execution_count": 24,
   "id": "db4ea187-1a2e-4dd3-8353-9b13bd48a6fe",
   "metadata": {},
   "outputs": [],
   "source": [
    "client = boto3.client(\"bedrock-runtime\")"
   ]
  },
  {
   "cell_type": "code",
   "execution_count": 27,
   "id": "5e26e18a-8415-406a-8274-5048fe0b9b45",
   "metadata": {},
   "outputs": [],
   "source": [
    "prompt_data = \"\"\"\n",
    "Human:\n",
    "Sulfuric acid reacts with sodium chloride, and gives <chemical1>______</chemical1> and <chemical2>______</chemical2>:\n",
    "Assistant:\n",
    "\"\"\""
   ]
  },
  {
   "cell_type": "code",
   "execution_count": 29,
   "id": "aad99b2d-5adc-40c8-ad98-b89e3035dceb",
   "metadata": {},
   "outputs": [],
   "source": [
    "resp = client.invoke_model(\n",
    "    modelId='anthropic.claude-v2',\n",
    "    contentType='application/json',\n",
    "    accept='application/json',\n",
    "    body=json.dumps({\n",
    "        \"prompt\": prompt_data,\n",
    "        \"max_tokens_to_sample\": 200,\n",
    "        \"temperature\": 1.0\n",
    "    })\n",
    ")"
   ]
  },
  {
   "cell_type": "code",
   "execution_count": 30,
   "id": "a6d2fdb4-eea9-4db6-b938-3909e2b51550",
   "metadata": {},
   "outputs": [],
   "source": [
    "body = json.loads(resp.get(\"body\").read())"
   ]
  },
  {
   "cell_type": "code",
   "execution_count": 32,
   "id": "13f32855-4c6d-4ed7-ad0f-0a14cd973c63",
   "metadata": {},
   "outputs": [
    {
     "name": "stdout",
     "output_type": "stream",
     "text": [
      " Sulfuric acid reacts with sodium chloride, and gives <chemical1>hydrogen chloride</chemical1> and <chemical2>sodium sulfate</chemical2>:\n",
      "\n",
      "Sulfuric acid is H2SO4\n",
      "Sodium chloride is NaCl\n",
      "\n",
      "The reaction is:\n",
      "\n",
      "H2SO4 + 2NaCl -> 2HCl + Na2SO4\n",
      "\n",
      "So the products are:\n",
      "\n",
      "<chemical1>hydrogen chloride (HCl)</chemical1> \n",
      "<chemical2>sodium sulfate (Na2SO4)</chemical2>\n"
     ]
    }
   ],
   "source": [
    "print(body['completion'])"
   ]
  },
  {
   "cell_type": "code",
   "execution_count": null,
   "id": "6c4a35b1-60a2-44ce-9db8-d79b6921bbaa",
   "metadata": {},
   "outputs": [],
   "source": []
  }
 ],
 "metadata": {
  "kernelspec": {
   "display_name": "Python 3 (ipykernel)",
   "language": "python",
   "name": "python3"
  },
  "language_info": {
   "codemirror_mode": {
    "name": "ipython",
    "version": 3
   },
   "file_extension": ".py",
   "mimetype": "text/x-python",
   "name": "python",
   "nbconvert_exporter": "python",
   "pygments_lexer": "ipython3",
   "version": "3.12.9"
  }
 },
 "nbformat": 4,
 "nbformat_minor": 5
}
